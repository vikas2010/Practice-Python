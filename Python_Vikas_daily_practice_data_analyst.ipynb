{
  "nbformat": 4,
  "nbformat_minor": 0,
  "metadata": {
    "colab": {
      "provenance": [],
      "authorship_tag": "ABX9TyO/AjRlQpzuL9pVaSs7aCiW",
      "include_colab_link": true
    },
    "kernelspec": {
      "name": "python3",
      "display_name": "Python 3"
    },
    "language_info": {
      "name": "python"
    }
  },
  "cells": [
    {
      "cell_type": "markdown",
      "metadata": {
        "id": "view-in-github",
        "colab_type": "text"
      },
      "source": [
        "<a href=\"https://colab.research.google.com/github/vikas2010/Practice-Python/blob/main/Python_Vikas_daily_practice_data_analyst.ipynb\" target=\"_parent\"><img src=\"https://colab.research.google.com/assets/colab-badge.svg\" alt=\"Open In Colab\"/></a>"
      ]
    },
    {
      "cell_type": "code",
      "execution_count": null,
      "metadata": {
        "colab": {
          "base_uri": "https://localhost:8080/"
        },
        "id": "x-F5qSlExQSw",
        "outputId": "9402b56a-ec56-41b3-ebdf-d6e3f9f5e995"
      },
      "outputs": [
        {
          "output_type": "stream",
          "name": "stdout",
          "text": [
            "Hello World\n"
          ]
        }
      ],
      "source": [
        "print(\"Hello World\")\n"
      ]
    },
    {
      "cell_type": "markdown",
      "source": [
        "\n",
        "crio\n",
        "\n",
        "\n",
        "\n",
        "\n",
        "\n",
        "\n",
        "\n",
        "\n",
        "\n",
        "2430\n",
        "\n",
        "\n",
        "\n",
        "\n",
        "\n",
        "Description\n",
        "Assessment\n",
        "PROBLEM STATEMENT\n",
        "Write a program to calculate the squares of two predefined numbers using a function and then print the sum of these squares. The program should define a function that returns the square of a given number, utilize this function to compute the squares of two specific numbers, and finally print the sum of these squared values.\n",
        "\n",
        "\n",
        "INPUT\n",
        "No direct input is required.\n",
        "\n",
        "\n",
        "CONSTRAINTS\n",
        "The program must define a function get_square(num) that takes an integer num as an argument and returns its square.\n",
        "\n",
        "Initialize two variables with predefined integer values.\n",
        "\n",
        "Use the get_square function to calculate the squares of these two numbers.\n",
        "\n",
        "Calculate the sum of the two squared values.\n",
        "\n",
        "Print the resulting sum directly.\n",
        "\n",
        "Include comments in the code to explain its functionality.\n",
        "\n",
        "\n",
        "OUTPUT\n",
        "A single integer representing the sum of the squares of the two predefined numbers.\n",
        "\n",
        "\n",
        "SAMPLE INPUT\n",
        "No input is provided.\n",
        "\n",
        "\n",
        "SAMPLE OUTPUT\n",
        "\n",
        "29\n",
        "\n",
        "\n",
        "171820212223241516131411129105823167425\n",
        "sumofsq= square1+square2\n",
        "print(sumofsq)\n",
        "\n",
        "\n",
        "\n",
        "\n",
        "\n",
        "'''def get_square(num):\n",
        "    return num * num\n",
        "num1=4\n",
        "num2=3\n",
        "\n",
        "\n",
        "\n",
        "Console Output\n",
        "52\n",
        "\n",
        "Square Sum | [PY] Learn Part 2 | Crio.Do | Build internship-grade projects in a real developer environment and accelerate your full stack or backend developer career with a job-ready project portfolio. Enroll and start for free.\n"
      ],
      "metadata": {
        "id": "K49Qc_-4gLGz"
      }
    },
    {
      "cell_type": "code",
      "source": [
        "\n",
        "def get_square(num):\n",
        "  return num*num\n",
        "\n",
        "num1 = 4\n",
        "num2 = 6\n",
        "square1=get_square(num1)\n",
        "square2=get_square(num2)\n",
        "sumofsq= square1+square2\n",
        "print(sumofsq)\n"
      ],
      "metadata": {
        "colab": {
          "base_uri": "https://localhost:8080/"
        },
        "id": "b4MJWItpddIY",
        "outputId": "3f41b5bd-6578-45d3-e296-4edf3e38abb5"
      },
      "execution_count": null,
      "outputs": [
        {
          "output_type": "stream",
          "name": "stdout",
          "text": [
            "52\n"
          ]
        }
      ]
    },
    {
      "cell_type": "markdown",
      "source": [
        "Given a function which takes firstName and lastName as parameters and prints the fullName.\n",
        "\n",
        "\n",
        "INPUT\n",
        "First line contains string firstName\n",
        "\n",
        "Second line contains string lastName\n",
        "\n",
        "\n",
        "CONSTRAINTS\n",
        "1 <= firstName,lastName <= 10^4\n",
        "\n",
        "\n",
        "OUTPUT\n",
        "fullName"
      ],
      "metadata": {
        "id": "mHdqSpIzlmGh"
      }
    },
    {
      "cell_type": "code",
      "source": [],
      "metadata": {
        "id": "i41cO-1bnrKL"
      },
      "execution_count": null,
      "outputs": []
    }
  ]
}